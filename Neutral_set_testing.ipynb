{
 "cells": [
  {
   "cell_type": "code",
   "id": "initial_id",
   "metadata": {
    "collapsed": true,
    "ExecuteTime": {
     "end_time": "2025-01-10T11:08:31.571137Z",
     "start_time": "2025-01-10T11:08:31.567082Z"
    }
   },
   "source": [
    "import numpy as np\n",
    "import matplotlib.pyplot as plt\n",
    "import pandas as pd\n",
    "import seaborn as sns\n",
    "import glob\n",
    "import os\n",
    "import re\n",
    "from scipy.signal import savgol_filter\n",
    "from numpy.polynomial.polynomial import Polynomial\n",
    "from scipy.fft import fft"
   ],
   "outputs": [],
   "execution_count": 3
  },
  {
   "metadata": {
    "ExecuteTime": {
     "end_time": "2025-01-10T11:08:32.712082Z",
     "start_time": "2025-01-10T11:08:32.710032Z"
    }
   },
   "cell_type": "code",
   "source": "import ThermographyToolSet",
   "id": "b4f4330985304716",
   "outputs": [],
   "execution_count": 4
  },
  {
   "metadata": {
    "ExecuteTime": {
     "end_time": "2025-01-10T11:09:16.357843Z",
     "start_time": "2025-01-10T11:09:16.162178Z"
    }
   },
   "cell_type": "code",
   "source": "from ThermographyToolSet import ReadingDataToStack",
   "id": "4d6b6cfd064c0b3",
   "outputs": [
    {
     "ename": "ImportError",
     "evalue": "cannot import name 'ReadingDataToStack' from 'ThermographyToolSet' (/Users/jaworskj/DataspellProjects/Thermal_camera_KAUST/ThermographyToolSet.py)",
     "output_type": "error",
     "traceback": [
      "\u001B[0;31m---------------------------------------------------------------------------\u001B[0m",
      "\u001B[0;31mImportError\u001B[0m                               Traceback (most recent call last)",
      "Cell \u001B[0;32mIn[5], line 1\u001B[0m\n\u001B[0;32m----> 1\u001B[0m \u001B[38;5;28;01mfrom\u001B[39;00m \u001B[38;5;21;01mThermographyToolSet\u001B[39;00m \u001B[38;5;28;01mimport\u001B[39;00m ReadingDataToStack\n",
      "\u001B[0;31mImportError\u001B[0m: cannot import name 'ReadingDataToStack' from 'ThermographyToolSet' (/Users/jaworskj/DataspellProjects/Thermal_camera_KAUST/ThermographyToolSet.py)"
     ]
    }
   ],
   "execution_count": 5
  },
  {
   "metadata": {},
   "cell_type": "code",
   "outputs": [],
   "execution_count": null,
   "source": [
    "csv_folder = \"/Users/jaworskj/Desktop/Infrared_thermography/Measurments/Measurment_0_nf/temperature_data\"\n",
    "frames = ReadingDataToStack(csv_folder)"
   ],
   "id": "12754357e50ec2da"
  }
 ],
 "metadata": {
  "kernelspec": {
   "display_name": "Python 3",
   "language": "python",
   "name": "python3"
  },
  "language_info": {
   "codemirror_mode": {
    "name": "ipython",
    "version": 2
   },
   "file_extension": ".py",
   "mimetype": "text/x-python",
   "name": "python",
   "nbconvert_exporter": "python",
   "pygments_lexer": "ipython2",
   "version": "2.7.6"
  }
 },
 "nbformat": 4,
 "nbformat_minor": 5
}
